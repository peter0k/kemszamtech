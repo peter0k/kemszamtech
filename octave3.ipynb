{
 "cells": [
  {
   "cell_type": "code",
   "execution_count": 1,
   "metadata": {},
   "outputs": [
    {
     "name": "stdout",
     "output_type": "stream",
     "text": [
      "A =\n",
      "\n",
      "   1   2   3\n",
      "   4   5   7\n",
      "   2   3   5\n",
      "\n",
      "b =\n",
      "\n",
      "   2100\n",
      "   5400\n",
      "   3400\n",
      "\n",
      "ans = -2\n",
      "x =\n",
      "\n",
      "   200.00\n",
      "   500.00\n",
      "   300.00\n",
      "\n",
      "ans =\n",
      "\n",
      "   2100.0\n",
      "   5400.0\n",
      "   3400.0\n",
      "\n"
     ]
    }
   ],
   "source": [
    "# Inhomogén lineáris egyenletrendszer egyértelmű megoldása Ax = b\n",
    "#piaci vásárlás: alma 200, körte 500, citrom 300\n",
    "A =[1,2,3;4,5,7;2,3,5]\n",
    "b =[2100;5400;3400]\n",
    "det(A)\n",
    "x=inv(A)*b\n",
    "A*x #ellenőrzés"
   ]
  },
  {
   "cell_type": "code",
   "execution_count": 2,
   "metadata": {},
   "outputs": [
    {
     "name": "stdout",
     "output_type": "stream",
     "text": [
      "x =\n",
      "\n",
      "   200.00\n",
      "   500.00\n",
      "   300.00\n",
      "\n"
     ]
    }
   ],
   "source": [
    "#Túlhatározott lineáris egyenletrendszer megoldása\n",
    "\n",
    "A =[1,2,3;4,5,7;2,3,5;6,8,9;2,2,1;1,2,1]; #túlhatározott\n",
    "b =[2100;5400;3400;7900;1700;1500];\n",
    "x=inv(A'*A)*A'*b"
   ]
  },
  {
   "cell_type": "code",
   "execution_count": 3,
   "metadata": {},
   "outputs": [
    {
     "name": "stdout",
     "output_type": "stream",
     "text": [
      "bz =\n",
      "\n",
      "   2120\n",
      "   5420\n",
      "   3420\n",
      "   7920\n",
      "   1720\n",
      "   1520\n",
      "\n",
      "A =\n",
      "\n",
      "   1   2   3   1\n",
      "   4   5   7   1\n",
      "   2   3   5   1\n",
      "   6   8   9   1\n",
      "   2   2   1   1\n",
      "   1   2   1   1\n",
      "\n",
      "x =\n",
      "\n",
      "   200.000\n",
      "   500.000\n",
      "   300.000\n",
      "    20.000\n",
      "\n"
     ]
    }
   ],
   "source": [
    "#Konstans tag szerepeltetése az e.h. mátrixban \n",
    "\n",
    "bz=b+20\n",
    "A(:,4)=1 \n",
    "x=inv(A'*A)*A'*bz"
   ]
  },
  {
   "cell_type": "markdown",
   "metadata": {},
   "source": [
    "#### Inhomogén lineáris egyenletrendszer egyértelmű megoldása - Cramer szabály\n",
    "\n",
    "$Ax=b$<br>\n",
    "$Ac_{i}$ mátrix: az $A$ együttható mátrix $i$-edik oszlopát helyettesítjük a $b$ eredményvektorral:\n",
    "$\\scriptsize Ac_{i}=\\begin{bmatrix}\n",
    "a_{11} & \\ldots&b_{1}&\\ldots& a_{1n}\\\\\n",
    "a_{21} & \\ldots&b_{2}&\\ldots& a_{2n}\\\\\n",
    "\\vdots & \\vdots&\\vdots&\\vdots& \\vdots\\\\\n",
    "a_{n1} & \\ldots&b_{n}&\\ldots& a_{nn}\n",
    "\\end{bmatrix}$<br>\n",
    "$x_{i}=\\frac{\\mathrm{det}(Ac_{i})}{\\mathrm{det}(A)}$"
   ]
  },
  {
   "cell_type": "code",
   "execution_count": 4,
   "metadata": {},
   "outputs": [
    {
     "name": "stdout",
     "output_type": "stream",
     "text": [
      "A =\n",
      "\n",
      "   1   2   3   1\n",
      "   4   5   7   1\n",
      "   2   3   5   1\n",
      "   6   8   9   1\n",
      "\n",
      "b =\n",
      "\n",
      "   2120\n",
      "   5420\n",
      "   3420\n",
      "   7920\n",
      "\n",
      "ans =  200.00\n",
      "ans =  20.000\n"
     ]
    }
   ],
   "source": [
    "A = resize(A,4,4)\n",
    "b = resize(bz,4,1)\n",
    "\n",
    "Ac1=A;\n",
    "Ac1(:,1)=b;\n",
    "det(Ac1)/det(A)\n",
    "\n",
    "Ac4=A;\n",
    "Ac4(:,4)=b;\n",
    "det(Ac4)/det(A)"
   ]
  },
  {
   "cell_type": "markdown",
   "metadata": {},
   "source": [
    "#### Valószínűségi változó függvényének eloszlása <br>\n",
    "\n",
    "$\\displaystyle f_{y}(Y) = f_{x}(x(Y))\\frac{\\mathrm{d}x}{\\mathrm{d}y}=f_{x}\\circ x(Y)\\frac{\\mathrm{d}x}{\\mathrm{d}y}$<br>\n",
    "ellenőrzéshez: sűrűségfüggvény tulajdonsága volt: $\\int\\limits_{\\infty}^{\\infty}f(t)\\mathrm{d}t=1$\n",
    "\n",
    "a) $f_{x}=\\lambda\\mathrm{e}^{-\\lambda x}$, $\\lambda=1$ paraméterű exponenciális eloszlású sűrűségfv.<br> \n",
    "$\\frac{\\mathrm{d}x}{\\mathrm{d}y}$   (x=x(y) deriválása y szerint)<br>\n",
    "$y = \\sqrt{x}\\rightarrow$ $x=y^{2}\\rightarrow\\frac{\\mathrm{d}x}{\\mathrm{d}y}=2y$ <br>\n",
    "$f_{y} = 2y\\;\\mathrm{e}^{-y^{2}}$"
   ]
  },
  {
   "cell_type": "code",
   "execution_count": 5,
   "metadata": {},
   "outputs": [
    {
     "name": "stdout",
     "output_type": "stream",
     "text": [
      "intx =  0.94848\n",
      "inty =  0.99833\n"
     ]
    },
    {
     "data": {
      "image/png": "[encoded data removed]",
      "text/plain": [
       "<IPython.core.display.Image object>"
      ]
     },
     "metadata": {},
     "output_type": "display_data"
    }
   ],
   "source": [
    "# x és y kölcsönösen egyértelmű függvények adott szakaszon: egymás inverzei adott szakaszon\n",
    "# ha az egyik eloszlása ismert (fx) akkor a másik eloszlása számítható (fy) \n",
    "\n",
    "clear\n",
    "for i=1:60 x(i)=0.1*i; endfor; \n",
    "#for i=1:60 fx(i)=exp(-x(i)); endfor;\n",
    "fx = exp(-x);\n",
    "\n",
    "for i=1:60 y(i)=0.1*i; endfor; \n",
    "#for i=1:60 fy(i)=2*y(i)*exp(-y(i)*y(i)); endfor; \n",
    "fy = 2*y .* exp(-y .^ 2);\n",
    "\n",
    "intx=sum(fx)*0.1 #görbe alatti terület ellenőrzése -téglányösszeg\n",
    "inty=sum(fy)*0.1 #görbe alatti terület ellenőrzése \n",
    "\n",
    "subplot (2, 1, 1)\n",
    "plot (x,fx)\n",
    "subplot (2, 1, 2)\n",
    "plot (y,fy)"
   ]
  },
  {
   "cell_type": "markdown",
   "metadata": {},
   "source": [
    "b) $x$ standard normális eloszlású: $f_{x}=\\frac{1}{\\sqrt{2\\pi}}\\mathrm{e}^{-\\frac{x^{2}}{2}}$<br> \n",
    "$y = x^{2}\\rightarrow$ $x=\\sqrt{y}\\rightarrow\\frac{\\mathrm{d}x}{\\mathrm{d}y}=\\frac{1}{2\\sqrt{y}}$ <br>\n",
    "\n",
    "$\\displaystyle f_{y}=f_{x}\\circ x(Y)\\frac{\\mathrm{d}x}{\\mathrm{d}y}=\\frac{1}{\\sqrt{2\\pi}}\\mathrm{e}^{-\\frac{y}{2}}\\;\\frac{1}{2\\sqrt{y}}$"
   ]
  },
  {
   "cell_type": "code",
   "execution_count": 6,
   "metadata": {},
   "outputs": [
    {
     "name": "stdout",
     "output_type": "stream",
     "text": [
      "ans =  0.46011\n",
      "ans =  0.92021\n",
      "ans =  0.74313\n",
      "ans =  0.94313\n"
     ]
    },
    {
     "data": {
      "image/png": "[encoded data removed]",
      "text/plain": [
       "<IPython.core.display.Image object>"
      ]
     },
     "metadata": {},
     "output_type": "display_data"
    }
   ],
   "source": [
    "clear\n",
    "\n",
    "for i=1:100 x(i)=0.2*(i); endfor; #0.2...20\n",
    "for i=1:100 fx(i)=1/sqrt(2*pi)*exp(-x(i)*x(i)/2); endfor;\n",
    "#fx = 1/sqrt(2*pi)*exp(-x .^ 2 / 2);\n",
    "\n",
    "for i=1:100 y(i)=0.2*(i); endfor; #0.2...20\n",
    "for i=1:100 fy(i)=1/sqrt(2*pi)*exp(-y(i)/2)*(1/2/sqrt(y(i))); endfor;\n",
    "#fy = 1/sqrt(2*pi)*exp(-y / 2) .* (1./(2*sqrt(y)));\n",
    "\n",
    "sum(fx)*0.2 # fél gauss-t integráltunk, szükséges 2-vel szorozni\n",
    "sum(fx)*0.2*2\n",
    "\n",
    "# emiatt fy téglányösszeget is szorozzuk 2-vel \n",
    "sum(fy)*0.2*2 # miért kapunk 0.74313-t? \n",
    "sum(fy)*0.2*2+0.2 # hozzáadunk 0.2 (téglányösszegből adódó pontatlanság)\n",
    "\n",
    "subplot (2, 1, 1)\n",
    "plot (x,fx)\n",
    "subplot (2, 1, 2)\n",
    "plot (y,fy)"
   ]
  },
  {
   "cell_type": "markdown",
   "metadata": {},
   "source": [
    "#### Gauss-féle hibaterjedési szabály \n",
    "$y=f(x_{1},\\ldots,x_{n})$ sokváltozós fv.<br>\n",
    "$(x_{1},\\ldots,x_{n})\\rightarrow(\\xi_{1},\\ldots,\\xi_{n})$ \\[nem ismert $\\boldsymbol{x}$ változók becslése $\\boldsymbol{\\xi}$ valószínűségi változókkal\\]<br>\n",
    "$(\\xi_{1},\\ldots,\\xi_{n})$ mindegyikéhez számolható: <br>\n",
    ">$(E_{1},\\ldots,E_{n})$ becsült várható érték,<br>\n",
    ">$(s_{1},\\ldots,s_{n})$ becsült szórás,<br>\n",
    ">$(s_{1}^{2},\\ldots,s_{n}^{2})$ becsült variancia, <br>\n",
    ">$(s_{11}^{2},s_{12}^{2}\\ldots,s_{1n}^{2},s_{21}^{2}\\ldots,s_{nn}^{2})$ becsült kovariancia<br>\n",
    "\n",
    "Kérdés: $s_{y}^{2}$ ($y$ varianciája)?\n",
    "\n",
    "Válasz: $s_{y}^{2}=\\sum\\limits_{i=1}^{n}\\left(\\frac{\\partial y}{\\partial x_{i}}\\right)^{2}s_{i}^{2}+2\\sum\\limits_{i<j}\\sum\\limits_{j=1}^{n}\\left(\\frac{\\partial y}{\\partial x_{i}}\\right)\\left(\\frac{\\partial y}{\\partial x_{j}}\\right)s_{ij}^{2}=\\sum\\limits_{i=1}^{n}\\sum\\limits_{j=1}^{n}\\left(\\frac{\\partial y}{\\partial x_{i}}\\right)\\left(\\frac{\\partial y}{\\partial x_{j}}\\right)s_{ij}^{2}$\n",
    "\n",
    "\n",
    "Mi található a képletben:<br>\n",
    "parciális deriváltak szorzatából álló mátrix ($PD$), kihasználva, hogy szimmetrikus megadható tömörebb alakban:\n",
    "\n",
    "$PD=\\begin{bmatrix}\n",
    "\\left(\\frac{\\partial y}{\\partial x_{1}}\\right)\\left(\\frac{\\partial y}{\\partial x_{1}}\\right)&\\left(\\frac{\\partial y}{\\partial x_{1}}\\right)\\left(\\frac{\\partial y}{\\partial x_{2}}\\right)&\\left(\\frac{\\partial y}{\\partial x_{1}}\\right)\\left(\\frac{\\partial y}{\\partial x_{3}}\\right)\\\\\n",
    "\\left(\\frac{\\partial y}{\\partial x_{2}}\\right)\\left(\\frac{\\partial y}{\\partial x_{1}}\\right)&\\left(\\frac{\\partial y}{\\partial x_{2}}\\right)\n",
    "\\left(\\frac{\\partial y}{\\partial x_{2}}\\right)&\\left(\\frac{\\partial y}{\\partial x_{2}}\\right)\\left(\\frac{\\partial y}{\\partial x_{3}}\\right)\\\\\n",
    "\\left(\\frac{\\partial y}{\\partial x_{3}}\\right)\\left(\\frac{\\partial y}{\\partial x_{1}}\\right)&\\left(\\frac{\\partial y}{\\partial x_{3}}\\right)\n",
    "\\left(\\frac{\\partial y}{\\partial x_{2}}\\right)&\\left(\\frac{\\partial y}{\\partial x_{3}}\\right)\\left(\\frac{\\partial y}{\\partial x_{3}}\\right)\n",
    "\\end{bmatrix}=\\begin{bmatrix}\n",
    "\\left(\\frac{\\partial y}{\\partial x_{1}}\\right) \\\\ \n",
    "\\left(\\frac{\\partial y}{\\partial x_{2}}\\right)  \\\\\n",
    "\\left(\\frac{\\partial y}{\\partial x_{3}}\\right) \\end{bmatrix}\\begin{bmatrix}\n",
    "\\left(\\frac{\\partial y}{\\partial x_{1}}\\right)& \\left(\\frac{\\partial y}{\\partial x_{2}}\\right)&\\left(\\frac{\\partial y}{\\partial x_{3}}\\right)\n",
    "\\end{bmatrix}=pd\\cdot pd^{\\mathsf{T}}$\n",
    "\n",
    "változókat a várható értéküknél vesszük figyelembe<br>\n",
    "továbbá elemenként szorozzuk a $PD$-t a kovariancia mátrixszal: $CD = PD.*CV$ <br>\n",
    "végül két egymást követő összegzés (oszlopok és elemek szerint) adja a becsült varianciát sum(sum($CD$))<br>"
   ]
  },
  {
   "cell_type": "code",
   "execution_count": 7,
   "metadata": {},
   "outputs": [],
   "source": [
    "D=randn(10,3); # D mátrix oszlopaiban az x1, x2, x3 változók értékei\n",
    "D(:,3)=D(:,1)+2*D(:,2)+0.1*randn(); #3. oszlop az első kettő lineáris kombinációja + zaj"
   ]
  },
  {
   "cell_type": "markdown",
   "metadata": {},
   "source": [
    "#### a) lineáris feladat: $y=x_{1}+2x_{2}-3x_{3}$"
   ]
  },
  {
   "cell_type": "markdown",
   "metadata": {},
   "source": [
    "parciális deriváltak<br>\n",
    "$\\frac{\\partial y}{\\partial x_{1}}=1\\quad \\frac{\\partial y}{\\partial x_{2}}=2\\quad\\frac{\\partial y}{\\partial x_{3}}=-3$"
   ]
  },
  {
   "cell_type": "code",
   "execution_count": 8,
   "metadata": {},
   "outputs": [
    {
     "name": "stdout",
     "output_type": "stream",
     "text": [
      "PD =\n",
      "\n",
      "   1   2  -3\n",
      "   2   4  -6\n",
      "  -3  -6   9\n",
      "\n"
     ]
    }
   ],
   "source": [
    "pd=[1;2;-3];\n",
    "PD=pd*pd'"
   ]
  },
  {
   "cell_type": "markdown",
   "metadata": {},
   "source": [
    "$\\small CV=\\tiny\\begin{bmatrix}\n",
    " s_{1,1}^{2}=s_{1}^{2}&s_{1,2}^{2}  &s_{1,3}^{2} \\\\\n",
    " s_{2,1}^{2}&s_{2,2}^{2}=s_{2}^{2}  &s_{2,3}^{2} \\\\\n",
    " s_{3,1}^{2}&s_{3,2}^{2}  &s_{3,3}^{2}=s_{3}^{2} \n",
    "\\end{bmatrix}$"
   ]
  },
  {
   "cell_type": "code",
   "execution_count": 9,
   "metadata": {},
   "outputs": [
    {
     "name": "stdout",
     "output_type": "stream",
     "text": [
      "CV =\n",
      "\n",
      "   1.030015   0.056880   1.143774\n",
      "   0.056880   1.026307   2.109494\n",
      "   1.143774   2.109494   5.362763\n",
      "\n"
     ]
    }
   ],
   "source": [
    "CV=cov(D)"
   ]
  },
  {
   "cell_type": "code",
   "execution_count": 10,
   "metadata": {},
   "outputs": [
    {
     "name": "stdout",
     "output_type": "stream",
     "text": [
      "CD =\n",
      "\n",
      "    1.03001    0.11376   -3.43132\n",
      "    0.11376    4.10523  -12.65697\n",
      "   -3.43132  -12.65697   48.26486\n",
      "\n"
     ]
    }
   ],
   "source": [
    "CD=CV.*PD"
   ]
  },
  {
   "cell_type": "code",
   "execution_count": 11,
   "metadata": {},
   "outputs": [
    {
     "name": "stdout",
     "output_type": "stream",
     "text": [
      "ans =\n",
      "\n",
      "   -2.2875   -8.4380   32.1766\n",
      "\n",
      "ans =  21.451\n",
      "ellenőrzés:\n",
      "ans =  21.451\n"
     ]
    }
   ],
   "source": [
    "sum(CD)\n",
    "sum(sum(CD)) #lineáris esetben a gauss hibaterjedés pontos, nemlineáris esetben csak egy becslést ad\n",
    "\n",
    "disp(\"ellenőrzés:\")\n",
    "y=D(:,1)+2*D(:,2)-3*D(:,3);\n",
    "#size(y)\n",
    "var(y)"
   ]
  },
  {
   "cell_type": "markdown",
   "metadata": {},
   "source": [
    "**b) nemlineáris példa:** $y=x_{1}^{2}+\\cos(x_{2})x_{3}$"
   ]
  },
  {
   "cell_type": "markdown",
   "metadata": {},
   "source": [
    "parciális deriváltak<br>\n",
    "$\\frac{\\partial y}{\\partial x_{1}}=2x_{1}\\quad \\frac{\\partial y}{\\partial x_{2}}=-\\sin(x_{2})x_{3}\\quad\\frac{\\partial y}{\\partial x_{3}}=\\cos(x_{2})$"
   ]
  },
  {
   "cell_type": "code",
   "execution_count": 12,
   "metadata": {},
   "outputs": [
    {
     "name": "stdout",
     "output_type": "stream",
     "text": [
      "e =\n",
      "\n",
      "   0.4795458   0.0096168   0.5343070\n",
      "\n",
      "pd =\n",
      "\n",
      "   0.9590916\n",
      "  -0.0051383\n",
      "   0.9999538\n",
      "\n"
     ]
    }
   ],
   "source": [
    "e = mean(D) #várható értékek\n",
    "# ha változó marad a parciális deriváltakban, akkor azt a változó várható értékével helyettesítjük\n",
    "\n",
    "pd = [2*e(1);-sin(e(2))*e(3);cos(e(2))]\n",
    "PD = pd*pd';"
   ]
  },
  {
   "cell_type": "code",
   "execution_count": 13,
   "metadata": {},
   "outputs": [
    {
     "name": "stdout",
     "output_type": "stream",
     "text": [
      "ans =  8.4814\n",
      "ellenőrzés:\n",
      "ans =  5.2732\n"
     ]
    }
   ],
   "source": [
    "CV = cov(D);\n",
    "CD = CV.*PD;\n",
    "sum(sum(CD))\n",
    "\n",
    "disp(\"ellenőrzés:\")\n",
    "y = D(:,1).*D(:,1)+cos(D(:,2)).*D(:,3);\n",
    "var(y) \n",
    "#nem lineáris esetben a gauss hibaterjedés nem pontos, csak egy becslést ad"
   ]
  },
  {
   "cell_type": "markdown",
   "metadata": {},
   "source": [
    "c) $y=x_{1}^{2}+\\cos(x_{2})+x_{3}$<br>\n",
    "parciális deriváltak:<br>\n",
    "$\\frac{\\partial y}{\\partial x_{1}}=2x_{1}\\quad \\frac{\\partial y}{\\partial x_{2}}=-\\sin(x_{2})\\quad\\frac{\\partial y}{\\partial x_{3}}=1$"
   ]
  },
  {
   "cell_type": "code",
   "execution_count": 14,
   "metadata": {},
   "outputs": [
    {
     "name": "stdout",
     "output_type": "stream",
     "text": [
      "ans =  8.4627\n",
      "ellenőrzés:\n",
      "ans =  11.651\n"
     ]
    }
   ],
   "source": [
    "e = mean(D); #várható értékek\n",
    "pd = [2*e(1);-sin(e(2));1];\n",
    "PD = pd*pd';\n",
    "CV = cov(D);\n",
    "CD = CV.*PD;\n",
    "sum(sum(CD))\n",
    "\n",
    "disp(\"ellenőrzés:\")\n",
    "y = D(:,1).*D(:,1)+cos(D(:,2))+D(:,3);\n",
    "var(y)\n",
    "#nem lineáris esetben a gauss hibaterjedés nem pontos, csak egy becslést ad"
   ]
  },
  {
   "cell_type": "markdown",
   "metadata": {},
   "source": [
    "#### Integrálás \n",
    "\n",
    "határozatlan integrál: $\\displaystyle \\int f(x)\\;\\mathrm{d}x=F(x)+C$<br>$F(x)$: az $f(x)$ függvény primitív függvénye (határozatlan integrálja)\n",
    "\n",
    "$\\displaystyle f(x)=\\frac{\\mathrm{d}F(x)}{\\mathrm{d}x}=F^{\\prime}(x)$\n",
    "\n",
    "határozott integrál (Newton-Leibniz tétel): $\\int_{a}^{b}f(x)\\mathrm{d}x=F(b)-F(a)\\quad$<br>\n",
    "\n",
    "numerikus integrálás: pl.:Trapézszabály: $\\displaystyle \\int_{a}^{b}f(x)\\mathrm{d}x\\approx\\frac{\\Delta x}{2}\\left(f(x_0)+2f(x_1)+\\ldots+2f(x_{N-1}) +f(x_N)\\right)  ;\\quad$ $\\displaystyle \\Delta x=\\frac{b-a}{N}$<br>\n"
   ]
  },
  {
   "cell_type": "code",
   "execution_count": 15,
   "metadata": {},
   "outputs": [
    {
     "data": {
      "image/png": "[encoded data removed]",
      "text/plain": [
       "<IPython.core.display.Image object>"
      ]
     },
     "metadata": {},
     "output_type": "display_data"
    }
   ],
   "source": [
    "u=rand(1,20);\n",
    "for i=1:20 v(i)=i*0.1; endfor;\n",
    "\n",
    "figure(1, 'position',[0,0,400,150]);\n",
    "plot(v,u,\"linewidth\",3)"
   ]
  },
  {
   "cell_type": "code",
   "execution_count": 16,
   "metadata": {},
   "outputs": [
    {
     "name": "stdout",
     "output_type": "stream",
     "text": [
      "ans =  0.89925\n",
      "ans =  1.00000\n"
     ]
    }
   ],
   "source": [
    "#számoljuk ki a görbe alatti területet (integráljunk)\n",
    "trapz(v,u) #integrálás trapézszabállyal\n",
    "\n",
    "quad('cos',0,pi/2) #integrálás gauss kvadratúrával, egzakt\n",
    "#quadnak az integrálandó függvényt adjuk meg (integrandus) és az integrálási határokat"
   ]
  },
  {
   "cell_type": "markdown",
   "metadata": {},
   "source": [
    "$\\int x^{n}\\mathrm{d}x=\\frac{x^{n+1}}{n+1}+c, \\quad n\\in \\mathbb{R}, n\\neq-1$<br>\n",
    "$\\int_{0}^{1}x^{2}\\mathrm{d}x=\\left[\\frac{x^{3}}{3}\\right]_{0}^{1}=\\frac{1}{3}-0=0.3333$"
   ]
  },
  {
   "cell_type": "code",
   "execution_count": 17,
   "metadata": {},
   "outputs": [
    {
     "name": "stdout",
     "output_type": "stream",
     "text": [
      "ans =  0.33333\n"
     ]
    }
   ],
   "source": [
    "function y = f(x) y = x*x; endfunction;\n",
    "quad('f',0,1) #vs Newton-Leibniz tétel"
   ]
  },
  {
   "cell_type": "markdown",
   "metadata": {},
   "source": [
    "#### Polinomok<br>\n",
    "polinom: $f(x)=\\sum\\limits_{i=0}^{n}a_{i}x^{i}=a_{0}x^{0}+a_{1}x^{1}+a_{2}x^{2}+\\ldots+a_{n}x^{n}=a_{0}+a_{1}x+a_{2}x^{2}+\\ldots+a_{n}x^{n}$, $n$-ed fokú polinom, $a_{0}$ konstans tag<br>\n",
    "\n",
    "konvolúció: szorzok két polinomot, jelölés csillaggal<br>\n",
    "$f*g=\\sum\\limits_{k=0}^{m+n}(\\sum\\limits_{j=0}^{k}a_{k-j}b_{j})x^{k}$, octave elvégzi<br>\n",
    "\n",
    "\n",
    "polinom megadása octaveban: koefficiens vektorral, fokszám szerinti csökkenő sorrendben, utolsó a konstans tag<br>\n",
    "\n",
    "$c=2x^{4}+3x^{3}+4x^{2}+5x+1\\quad\\quad\\quad$ c = \\[2,3,4,5,1\\];<br> \n",
    "$a=x^{3}+2x^{2}+3x+4\\quad\\quad\\quad\\quad\\quad\\quad$    a = \\[1,2,3,4\\];<br> \n",
    "$a*c=2x^{7}+7x^{6}+16x^{5}+30x^{4}+35x^{3}+33x^{2}+23x+4\\quad$ conv(a,c)\n",
    "\n"
   ]
  },
  {
   "cell_type": "code",
   "execution_count": 18,
   "metadata": {},
   "outputs": [
    {
     "name": "stdout",
     "output_type": "stream",
     "text": [
      "ans =\n",
      "\n",
      "    2    7   16   30   35   33   23    4\n",
      "\n"
     ]
    }
   ],
   "source": [
    "c=[2,3,4,5,1] ;     \n",
    "a=[1,2,3,4]; \n",
    "conv(a,c) #konvolúció - két polinom szorzata"
   ]
  },
  {
   "cell_type": "code",
   "execution_count": 19,
   "metadata": {},
   "outputs": [
    {
     "name": "stdout",
     "output_type": "stream",
     "text": [
      "ans =\n",
      "\n",
      "   3   4   3\n",
      "\n",
      "ans =\n",
      "\n",
      "    14    42    80   120   105    66    23\n",
      "\n",
      "k =\n",
      "\n",
      "    14    42    80   120   105    66    23\n",
      "\n",
      "q =\n",
      "\n",
      "   -0.50000   -2.00000   -5.00000  -10.00000   -8.75000   -7.00000   -4.25000\n",
      "\n",
      "r =\n",
      "\n",
      " Columns 1 through 7:\n",
      "\n",
      "    1.00000    3.00000    6.25000   11.00000   12.50000   11.50000    8.25000\n",
      "\n",
      " Columns 8 and 9:\n",
      "\n",
      "    2.50000    0.25000\n",
      "\n"
     ]
    }
   ],
   "source": [
    "polyder(a)           # polinom deriváltja\n",
    "\n",
    "polyder(conv(a,c))   # két polinom konvolúciójának deriváltja\n",
    "#vagy\n",
    "[k]=polyder(a,c)\n",
    "\n",
    "[q,r]=polyder(a,c)   # a/c hányados (racionális törtfüggvény) deriváltja, q: derivált számláló, r: derivált nevező"
   ]
  },
  {
   "cell_type": "code",
   "execution_count": 20,
   "metadata": {},
   "outputs": [
    {
     "name": "stdout",
     "output_type": "stream",
     "text": [
      "r =\n",
      "\n",
      "  -1.65063 + 0.00000i\n",
      "  -0.17469 + 1.54687i\n",
      "  -0.17469 - 1.54687i\n",
      "\n",
      "ans =\n",
      "\n",
      "  -8.8818e-16 + 0.0000e+00i\n",
      "  -4.4409e-15 + 6.6613e-16i\n",
      "  -4.4409e-15 - 6.6613e-16i\n",
      "\n"
     ]
    }
   ],
   "source": [
    "# polinom gyökei\n",
    "a=[1,2,3,4]; \n",
    "r = roots(a) # valós gyökök, komplex gyökök, polinomnak annyi gyöke van ahányad rendű\n",
    "polyval(a,r) # ellenőrzés, polinom helyettesítési értéke (Horner-módszer) a kapott gyököknél zérus"
   ]
  },
  {
   "cell_type": "code",
   "execution_count": 21,
   "metadata": {},
   "outputs": [
    {
     "data": {
      "image/png": "[encoded data removed]",
      "text/plain": [
       "<IPython.core.display.Image object>"
      ]
     },
     "metadata": {},
     "output_type": "display_data"
    }
   ],
   "source": [
    "#polinomillesztés, legkisebb négyzetek módszerével\n",
    "for i=1:20 v(i)=i*0.1; endfor; # 0.1...2.0\n",
    "for i=1:20 u(i)=v(i)+cos(v(i)*0.3); endfor;\n",
    "\n",
    "figure(1, 'position',[0,0,400,150]);\n",
    "plot(v,u,\"linewidth\",3)\n",
    "ylim([0,3])"
   ]
  },
  {
   "cell_type": "code",
   "execution_count": 22,
   "metadata": {},
   "outputs": [
    {
     "name": "stdout",
     "output_type": "stream",
     "text": [
      "p =\n",
      "\n",
      "  -6.2529e-06   3.5244e-04  -1.7165e-05  -4.4990e-02   1.0000e+00   1.0000e+00\n",
      "\n",
      "pint =\n",
      "\n",
      "  -0.00000   0.00007  -0.00000  -0.01500   0.50000   1.00000   0.00000\n",
      "\n"
     ]
    }
   ],
   "source": [
    "p = polyfit(v,u,5)  # illesztés ötödfokú polinommal\n",
    "#p = polyfit(v,u,4) # illesztés negyedfokú polinommal\n",
    "pint = polyint(p)   # illesztett polinom határozatlan integrálja"
   ]
  },
  {
   "cell_type": "code",
   "execution_count": 23,
   "metadata": {},
   "outputs": [
    {
     "name": "stdout",
     "output_type": "stream",
     "text": [
      "ans =  3.8821\n",
      "ans =  3.7770\n",
      "ans =  3.8821\n"
     ]
    }
   ],
   "source": [
    "polyval(pint,2)-polyval(pint,0) # Newton-Leibniz: pint határozatlan integrál helyettesítési értékét (polyval) számoljuk\n",
    "                                # a megadott integrálási határok között (0,2) a határozott integrál értékének kiszámítására\n",
    "#VS\n",
    "trapz(v,u)                      # trapézszabály\n",
    "#VS\n",
    "function u=fv(v) u=v+cos(v*0.3); endfunction;\n",
    "quad('fv',0,2)                  # gauss-kvadratúra"
   ]
  },
  {
   "cell_type": "markdown",
   "metadata": {},
   "source": [
    "#### Interpoláció"
   ]
  },
  {
   "cell_type": "code",
   "execution_count": 24,
   "metadata": {},
   "outputs": [
    {
     "name": "stdout",
     "output_type": "stream",
     "text": [
      "ans =  2.00068941632700\n",
      "ans =  2.00068941632700\n",
      "ans =  2.00079635831301\n",
      "ans =  2.00079637690771\n",
      "ans =  2.00079635991402\n"
     ]
    }
   ],
   "source": [
    "format long\n",
    "# interp1 1D interpoláció\n",
    "interp1(v,u,1.05) # u(v=1.05)?, u értéke v = 1.05-nél\n",
    "interp1(v,u,1.05,'linear') # default (legkisebb négyzetek módszere)\n",
    "interp1(v,u,1.05,'cubic')  # köbös interpoláció\n",
    "interp1(v,u,1.05,'spline') # köbös spline\n",
    "\n",
    "polyval(p,1.05) # pontosabbnak kell lennie bármelyiknél\n",
    "format"
   ]
  },
  {
   "cell_type": "code",
   "execution_count": null,
   "metadata": {},
   "outputs": [],
   "source": []
  }
 ],
 "metadata": {
  "kernelspec": {
   "display_name": "Octave",
   "language": "octave",
   "name": "octave"
  },
  "language_info": {
   "file_extension": ".m",
   "help_links": [
    {
     "text": "GNU Octave",
     "url": "https://www.gnu.org/software/octave/support.html"
    },
    {
     "text": "Octave Kernel",
     "url": "https://github.com/Calysto/octave_kernel"
    },
    {
     "text": "MetaKernel Magics",
     "url": "https://github.com/calysto/metakernel/blob/master/metakernel/magics/README.md"
    }
   ],
   "mimetype": "text/x-octave",
   "name": "octave",
   "version": "4.2.2"
  }
 },
 "nbformat": 4,
 "nbformat_minor": 2
}
