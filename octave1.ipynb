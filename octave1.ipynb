{
 "cells": [
  {
   "cell_type": "code",
   "execution_count": 89,
   "metadata": {},
   "outputs": [],
   "source": [
    "# arithmetic operators\n",
    "# + (matrix)addition\n",
    "# * (matrix)multiplication\n",
    "# ** power operator\n",
    "# ^ power operator"
   ]
  },
  {
   "cell_type": "code",
   "execution_count": 90,
   "metadata": {},
   "outputs": [
    {
     "name": "stdout",
     "output_type": "stream",
     "text": [
      "x =  2\n"
     ]
    }
   ],
   "source": [
    "x = 2"
   ]
  },
  {
   "cell_type": "code",
   "execution_count": 91,
   "metadata": {},
   "outputs": [],
   "source": [
    "y = 3;"
   ]
  },
  {
   "cell_type": "code",
   "execution_count": 92,
   "metadata": {},
   "outputs": [
    {
     "name": "stdout",
     "output_type": "stream",
     "text": [
      "z =  29\n"
     ]
    }
   ],
   "source": [
    "z = x+y**3"
   ]
  },
  {
   "cell_type": "code",
   "execution_count": 63,
   "metadata": {},
   "outputs": [],
   "source": [
    "# comment line\n",
    "% comment line"
   ]
  },
  {
   "cell_type": "code",
   "execution_count": 8,
   "metadata": {},
   "outputs": [
    {
     "name": "stdout",
     "output_type": "stream",
     "text": [
      "x = -0.74806\n"
     ]
    }
   ],
   "source": [
    "x = cos (z)"
   ]
  },
  {
   "cell_type": "code",
   "execution_count": 60,
   "metadata": {},
   "outputs": [
    {
     "name": "stdout",
     "output_type": "stream",
     "text": [
      "value of pi is:\n",
      " 3.14159265358979\n"
     ]
    }
   ],
   "source": [
    "disp (\"value of pi is:\"),disp (pi)"
   ]
  },
  {
   "cell_type": "code",
   "execution_count": 62,
   "metadata": {},
   "outputs": [],
   "source": [
    "#function return_value = function_name (argumentum list) function_body; endfunction;"
   ]
  },
  {
   "cell_type": "code",
   "execution_count": 11,
   "metadata": {},
   "outputs": [],
   "source": [
    "function y = fun (x,z) y = x+z*3-sqrt (x); endfunction;"
   ]
  },
  {
   "cell_type": "code",
   "execution_count": 15,
   "metadata": {},
   "outputs": [
    {
     "name": "stdout",
     "output_type": "stream",
     "text": [
      "ans =  13.268\n"
     ]
    }
   ],
   "source": [
    "fun (3, 4)"
   ]
  },
  {
   "cell_type": "code",
   "execution_count": 16,
   "metadata": {},
   "outputs": [
    {
     "name": "stdout",
     "output_type": "stream",
     "text": [
      "ans =  13.268\n"
     ]
    }
   ],
   "source": [
    "fun (2+1, 3+1)"
   ]
  },
  {
   "cell_type": "code",
   "execution_count": 18,
   "metadata": {},
   "outputs": [
    {
     "name": "stdout",
     "output_type": "stream",
     "text": [
      "ans =  13.268\n"
     ]
    }
   ],
   "source": [
    "u = 2;\n",
    "v = 3;\n",
    "fun(u+1, v+1)"
   ]
  },
  {
   "cell_type": "code",
   "execution_count": 20,
   "metadata": {},
   "outputs": [
    {
     "name": "stdout",
     "output_type": "stream",
     "text": [
      "y =  7.6124\n"
     ]
    }
   ],
   "source": [
    "x = 2;\n",
    "y = exp (x) + log (x) + log10 (x) + sqrt (x) + tan (x)"
   ]
  },
  {
   "cell_type": "code",
   "execution_count": 21,
   "metadata": {},
   "outputs": [
    {
     "name": "stdout",
     "output_type": "stream",
     "text": [
      "ans =\n",
      "\n",
      "  -2   3\n",
      "\n"
     ]
    }
   ],
   "source": [
    "ceil ([-2.7, 2.7])"
   ]
  },
  {
   "cell_type": "code",
   "execution_count": 22,
   "metadata": {},
   "outputs": [
    {
     "name": "stdout",
     "output_type": "stream",
     "text": [
      "ans =\n",
      "\n",
      "  -3   2\n",
      "\n"
     ]
    }
   ],
   "source": [
    "floor ([-2.7, 2.7])"
   ]
  },
  {
   "cell_type": "code",
   "execution_count": 33,
   "metadata": {},
   "outputs": [
    {
     "name": "stdout",
     "output_type": "stream",
     "text": [
      "ans = 0\n",
      "ans =  1\n",
      "ans = 0\n"
     ]
    }
   ],
   "source": [
    "rem (2,2)\n",
    "rem (3,2)\n",
    "rem (4,2)"
   ]
  },
  {
   "cell_type": "code",
   "execution_count": 76,
   "metadata": {},
   "outputs": [
    {
     "name": "stdout",
     "output_type": "stream",
     "text": [
      "ans = -1\n"
     ]
    }
   ],
   "source": [
    "rem (-4,3)"
   ]
  },
  {
   "cell_type": "code",
   "execution_count": 35,
   "metadata": {},
   "outputs": [
    {
     "name": "stdout",
     "output_type": "stream",
     "text": [
      "ans =  2\n"
     ]
    }
   ],
   "source": [
    "rem (2,4)"
   ]
  },
  {
   "cell_type": "code",
   "execution_count": 36,
   "metadata": {},
   "outputs": [
    {
     "name": "stdout",
     "output_type": "stream",
     "text": [
      "ans = NaN\n"
     ]
    }
   ],
   "source": [
    "rem (1,0)"
   ]
  },
  {
   "cell_type": "code",
   "execution_count": 87,
   "metadata": {},
   "outputs": [],
   "source": [
    "function retval = even_odd(number)\n",
    "  if (rem (number, 2) == 0)\n",
    "    retval = \"even\";\n",
    "  else\n",
    "    retval = \"odd\";\n",
    "  endif\n",
    "endfunction;"
   ]
  },
  {
   "cell_type": "code",
   "execution_count": 93,
   "metadata": {},
   "outputs": [
    {
     "name": "stdout",
     "output_type": "stream",
     "text": [
      "ans = even\n",
      "ans = odd\n",
      "ans = even\n"
     ]
    }
   ],
   "source": [
    "even_odd(4)\n",
    "even_odd(-3)\n",
    "even_odd(0)"
   ]
  },
  {
   "cell_type": "code",
   "execution_count": 37,
   "metadata": {},
   "outputs": [
    {
     "name": "stdout",
     "output_type": "stream",
     "text": [
      "ans =  0.14112\n",
      "sin =\n",
      "\n",
      "   0   0   2\n",
      "\n",
      "ans =  2\n",
      "ans =  0.14112\n"
     ]
    }
   ],
   "source": [
    "sin (3)\n",
    "sin (3) = 2\n",
    "sin (3)\n",
    "clear all\n",
    "sin (3)"
   ]
  },
  {
   "cell_type": "code",
   "execution_count": 40,
   "metadata": {},
   "outputs": [
    {
     "name": "stdout",
     "output_type": "stream",
     "text": [
      "ans =  2\n",
      "ans =  3\n"
     ]
    }
   ],
   "source": [
    "round (2.4)\n",
    "round (2.6)"
   ]
  },
  {
   "cell_type": "code",
   "execution_count": 41,
   "metadata": {},
   "outputs": [
    {
     "name": "stdout",
     "output_type": "stream",
     "text": [
      "ans =  1\n",
      "ans = -1\n"
     ]
    }
   ],
   "source": [
    "sign(3.2)\n",
    "sign(-3.2)"
   ]
  },
  {
   "cell_type": "code",
   "execution_count": 42,
   "metadata": {},
   "outputs": [
    {
     "name": "stdout",
     "output_type": "stream",
     "text": [
      "ans =\n",
      "\n",
      "    2    2    2    3    3    3    3   19\n",
      "\n"
     ]
    }
   ],
   "source": [
    "factor(12312)"
   ]
  },
  {
   "cell_type": "code",
   "execution_count": 43,
   "metadata": {},
   "outputs": [
    {
     "name": "stdout",
     "output_type": "stream",
     "text": [
      "ans =  6\n"
     ]
    }
   ],
   "source": [
    "factorial(3)"
   ]
  },
  {
   "cell_type": "code",
   "execution_count": 57,
   "metadata": {},
   "outputs": [
    {
     "name": "stdout",
     "output_type": "stream",
     "text": [
      "ans = 9223372036854775807\n",
      "ans =  2432902008176640000\n",
      "ans =    5.10909421717094e+19\n"
     ]
    }
   ],
   "source": [
    "format long\n",
    "intmax('int64')\n",
    "factorial(20)\n",
    "factorial(21)"
   ]
  },
  {
   "cell_type": "code",
   "execution_count": 58,
   "metadata": {},
   "outputs": [
    {
     "name": "stdout",
     "output_type": "stream",
     "text": [
      "ans =\n",
      "\n",
      " Columns 1 through 16:\n",
      "\n",
      "    2    3    5    7   11   13   17   19   23   29   31   37   41   43   47   53\n",
      "\n",
      " Columns 17 through 25:\n",
      "\n",
      "   59   61   67   71   73   79   83   89   97\n",
      "\n"
     ]
    }
   ],
   "source": [
    "primes(100)"
   ]
  },
  {
   "cell_type": "code",
   "execution_count": 59,
   "metadata": {},
   "outputs": [
    {
     "name": "stdout",
     "output_type": "stream",
     "text": [
      "'primes' is a function from the file /usr/share/octave/4.2.2/m/specfun/primes.m\n",
      "\n",
      " -- primes (N)\n",
      "     Return all primes up to N.\n",
      "\n",
      "     The output data class (double, single, uint32, etc.)  is the same\n",
      "     as the input class of N.  The algorithm used is the Sieve of\n",
      "     Eratosthenes.\n",
      "\n",
      "     Notes: If you need a specific number of primes you can use the fact\n",
      "     that the distance from one prime to the next is, on average,\n",
      "     proportional to the logarithm of the prime.  Integrating, one finds\n",
      "     that there are about k primes less than k*log (5*k).\n",
      "\n",
      "     See also 'list_primes' if you need a specific number N of primes.\n",
      "\n",
      "     See also: list_primes, isprime.\n",
      "\n",
      "Additional help for built-in functions and operators is\n",
      "available in the online version of the manual.  Use the command\n",
      "'doc <topic>' to search the manual index.\n",
      "\n",
      "Help and information about Octave is also available on the WWW\n",
      "at http://www.octave.org and via the help@octave.org\n",
      "mailing list.\n"
     ]
    }
   ],
   "source": [
    "help primes"
   ]
  },
  {
   "cell_type": "code",
   "execution_count": 66,
   "metadata": {},
   "outputs": [
    {
     "name": "stdout",
     "output_type": "stream",
     "text": [
      "ans =  0.12346\n"
     ]
    }
   ],
   "source": [
    "output_precision(5)\n",
    "0.123456789"
   ]
  },
  {
   "cell_type": "code",
   "execution_count": null,
   "metadata": {},
   "outputs": [],
   "source": []
  }
 ],
 "metadata": {
  "kernelspec": {
   "display_name": "Octave",
   "language": "octave",
   "name": "octave"
  },
  "language_info": {
   "file_extension": ".m",
   "help_links": [
    {
     "text": "GNU Octave",
     "url": "https://www.gnu.org/software/octave/support.html"
    },
    {
     "text": "Octave Kernel",
     "url": "https://github.com/Calysto/octave_kernel"
    },
    {
     "text": "MetaKernel Magics",
     "url": "https://github.com/calysto/metakernel/blob/master/metakernel/magics/README.md"
    }
   ],
   "mimetype": "text/x-octave",
   "name": "octave",
   "version": "4.2.2"
  }
 },
 "nbformat": 4,
 "nbformat_minor": 2
}
