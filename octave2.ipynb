{
 "cells": [
  {
   "cell_type": "code",
   "execution_count": 9,
   "metadata": {},
   "outputs": [
    {
     "name": "stdout",
     "output_type": "stream",
     "text": [
      "area =  5\n",
      "error: 'AREA' undefined near line 1 column 1\n",
      "area =  5\n",
      "a3 =  8\n",
      "parse error:\n",
      "\n",
      "  syntax error\n",
      "\n",
      ">>> 3a = 8 # számmal nem kezdődhet változó neve\n",
      "     ^\n",
      "\n"
     ]
    }
   ],
   "source": [
    "clear\n",
    "# variable names\n",
    "area = 5\n",
    "AREA #kisbetű-nagybetű érzékeny\n",
    "area\n",
    "a3 = 8\n",
    "3a = 8 # számmal nem kezdődhet változó neve"
   ]
  },
  {
   "cell_type": "code",
   "execution_count": 10,
   "metadata": {},
   "outputs": [
    {
     "name": "stdout",
     "output_type": "stream",
     "text": [
      "v_col =\n",
      "\n",
      "    2\n",
      "   34\n",
      "    2\n",
      "\n",
      "ans =\n",
      "\n",
      "   3   1\n",
      "\n",
      "v_row =\n",
      "\n",
      "    2   34    2\n",
      "\n",
      "ans =\n",
      "\n",
      "   1   3\n",
      "\n",
      "u =\n",
      "\n",
      "    2   34    2\n",
      "\n"
     ]
    }
   ],
   "source": [
    "v_col = [2;34;2] # column vector\n",
    "size (v_col)\n",
    "v_row = [2 34 2] # row vector\n",
    "size(v_row)\n",
    "u = [2,34,2] # row vector"
   ]
  },
  {
   "cell_type": "code",
   "execution_count": 15,
   "metadata": {},
   "outputs": [
    {
     "name": "stdout",
     "output_type": "stream",
     "text": [
      "u =\n",
      "\n",
      "   0.750352   0.913662   0.018648\n",
      "\n",
      "ans =\n",
      "\n",
      "   1   3\n",
      "\n",
      "v =\n",
      "\n",
      "    2\n",
      "   34\n",
      "    2\n",
      "\n",
      "v =\n",
      "\n",
      "   2   0   0   0\n",
      "\n",
      "u =\n",
      "\n",
      "   0.75035   0.91366   0.01865   0.00000\n",
      "\n"
     ]
    }
   ],
   "source": [
    "u=rand(1,3) # véletlen számok 0 és 1 között egyenletes eloszlás szerint \n",
    "size(u) \n",
    "v = v_col\n",
    "v=resize(v,1,4) \n",
    "u = resize(u,1,4)"
   ]
  },
  {
   "cell_type": "code",
   "execution_count": 21,
   "metadata": {},
   "outputs": [
    {
     "name": "stdout",
     "output_type": "stream",
     "text": [
      "v =\n",
      "\n",
      "   1   2   3\n",
      "\n",
      "u =\n",
      "\n",
      "   4\n",
      "   5\n",
      "   6\n",
      "\n",
      "ans =\n",
      "\n",
      "    4    8   12\n",
      "    5   10   15\n",
      "    6   12   18\n",
      "\n",
      "ans =  32\n",
      "\n",
      "ans =  6\n",
      "ans =  6\n",
      "ans =  14\n",
      "ans =\n",
      "\n",
      "    4   10   18\n",
      "\n",
      "ans =\n",
      "\n",
      "   1   2   3\n",
      "\n"
     ]
    }
   ],
   "source": [
    "v = [1 2 3]\n",
    "u = [4;5;6]\n",
    "u*v # mátrix szorzás, 3×1 1×3 -> 3×3 \n",
    "dot(v,u) # skaláris szorzás, sum a_i b_i\n",
    "disp(\"\")\n",
    "sum(v) # vektor elemeinek összege\n",
    "prod(v) # vektor elemeinek szorzata\n",
    "sumsq(v) # vektor elemek négyzetének összege\n",
    "v.*u'        # .* elemenként szorozzuk v és  u komponenseit\n",
    "v = [3 2 1];\n",
    "sort(v) # rendezés"
   ]
  },
  {
   "cell_type": "code",
   "execution_count": 37,
   "metadata": {},
   "outputs": [
    {
     "name": "stdout",
     "output_type": "stream",
     "text": [
      "ans =\n",
      "\n",
      "   0   1\n",
      "\n",
      "theta = 0\n",
      "r =  1\n",
      "ans =  1.0472\n",
      "ans =  1.0472\n",
      "ans =  60.000\n",
      "x =  1\n",
      "y = 0\n"
     ]
    }
   ],
   "source": [
    "#koordináta transzformációk\n",
    "# polár koordináták: r - origótól való távolság, theta - x tengellyel bezért szög\n",
    "x = 1;\n",
    "y = 0;\n",
    "cart2pol(x,y)\n",
    "[theta,r] = cart2pol(x,y)\n",
    "\n",
    "#visszafelé irány (octave radiánban kéri a szöget)\n",
    "#radián = szög*(pi/180)\n",
    "60*(pi/180)\n",
    "deg2rad(60)\n",
    "rad2deg(1.0472)\n",
    "\n",
    "[x,y] = pol2cart(theta,r)"
   ]
  },
  {
   "cell_type": "code",
   "execution_count": 38,
   "metadata": {},
   "outputs": [
    {
     "data": {
      "image/png": "[encoded data removed]",
      "text/plain": [
       "<IPython.core.display.Image object>"
      ]
     },
     "metadata": {},
     "output_type": "display_data"
    }
   ],
   "source": [
    "x = -5:0.1:5;\n",
    "y = sin(6*x)+2;\n",
    "[theta,r] = cart2pol(x,y);\n",
    "polar(theta,r)\n",
    "\n",
    "\n",
    "subplot (2, 2, 1)\n",
    "plot(x,y);ylabel (\"y\");xlabel (\"x\")\n",
    "subplot (2, 2, 2)\n",
    "polar(theta,r)\n",
    "subplot (2, 2, 3)\n",
    "plot(theta,r)\n",
    "subplot (2, 2, 4)\n",
    "polar(x,y)"
   ]
  },
  {
   "cell_type": "code",
   "execution_count": 78,
   "metadata": {},
   "outputs": [
    {
     "name": "stdout",
     "output_type": "stream",
     "text": [
      "ans =\n",
      "\n",
      "   0   0   1\n",
      "\n",
      "azimuth =  1.5708\n",
      "elevation = 0\n",
      "r =  1\n",
      "ans =  90.000\n",
      "theta = 0\n",
      "phi =  1.5708\n",
      "r =  1\n",
      "x =    6.1232e-17\n",
      "y = 0\n",
      "z =  1\n"
     ]
    }
   ],
   "source": [
    "clear\n",
    "# gömbi koordináták\n",
    "x=1;y=0;z=0;\n",
    "cart2sph(x,y,z)\n",
    "x=0;y=1;z=0;\n",
    "[azimuth,elevation,r] = cart2sph(x,y,z) # hosszúság\n",
    "rad2deg(1.5708)\n",
    "x=0;y=0;z=1;\n",
    "[theta,phi,r] = cart2sph(x,y,z) # szélesség\n",
    "\n",
    "#visszafelé\n",
    "[x,y,z] = sph2cart(theta,phi,r)"
   ]
  },
  {
   "cell_type": "code",
   "execution_count": 137,
   "metadata": {},
   "outputs": [
    {
     "name": "stdout",
     "output_type": "stream",
     "text": [
      "x =\n",
      "\n",
      "   1   2   3   4   5\n",
      "\n",
      "ans = 0\n",
      "ans =  4.9000\n"
     ]
    },
    {
     "data": {
      "image/png": "[encoded data removed]",
      "text/plain": [
       "<IPython.core.display.Image object>"
      ]
     },
     "metadata": {},
     "output_type": "display_data"
    }
   ],
   "source": [
    "clear\n",
    "# octave grafika\n",
    "# for ciklussal feltöltünk egy vektort\n",
    "for i=1:5 x(i) = i;endfor;\n",
    "x\n",
    "\n",
    "for i=1:50 x(i)=(i-1)*0.1; endfor; #0.0...4.9, lépésköz 0.25\n",
    "x(1),x(end)\n",
    "y = sin(x);\n",
    "z = cos(x);\n",
    "\n",
    "fig = figure(1, 'position',[0,0,400,150]);\n",
    "plot(x,y,'o-r',x,z,'xb') #o,x: marker -: pontok vonallal összekötve r,b: red,blue\n",
    "ylabel ('sin \\phi');xlabel ('x{\\it x} \\alpha mol\\cdotdm^{-3}');title('sinus görbe');\n",
    "print -dpdf -color \"-S400,150\" sincos.pdf # mentés fájlba"
   ]
  },
  {
   "cell_type": "code",
   "execution_count": 189,
   "metadata": {},
   "outputs": [
    {
     "name": "stdout",
     "output_type": "stream",
     "text": [
      "j =  0 + 1i\n",
      "ans = -1\n",
      "c =  2 + 3i\n",
      "ans =  2\n",
      "ans =  3\n",
      "cc =  2 - 3i\n",
      "ans =  0 - 1i\n",
      "abs_c =  3.6056\n",
      "ans =  3.6056\n",
      "m =  3.6000\n"
     ]
    },
    {
     "data": {
      "image/png": "[encoded data removed]",
      "text/plain": [
       "<IPython.core.display.Image object>"
      ]
     },
     "metadata": {},
     "output_type": "display_data"
    }
   ],
   "source": [
    "clear\n",
    "# komplex számok - negatív számoknak nincs gyöke, kivezet a valós számok halmazából \n",
    "j = sqrt(-1) #képzetes egység\n",
    "j*j\n",
    "c = 2+3i\n",
    "real(c) # komplex szám valós része\n",
    "imag(c) # komplex szám imaginárius (képzetes) része\n",
    "cc = conj(c) # komplex konjugált, c komplex számot tükrözzük a valós tengelyre\n",
    "conj(i)\n",
    "\n",
    "# komplex szám abszolút értéke |c| = sqrt(cc* c)\n",
    "abs_c = sqrt(cc*c)\n",
    "c = 2+3i;\n",
    "abs(c)\n",
    "\n",
    "figure(1, 'position',[0,0,400,150]);\n",
    "hold on;\n",
    "m = 1.2 * max([real([c cc]) imag([c cc])])\n",
    "quiver(0,0,real(c),imag(c),\"maxheadsize\", 0.1)\n",
    "quiver(0,0,real(cc),imag(cc),\"maxheadsize\", 0.1)\n",
    "axis([-m,m,-m,m], 'square')\n",
    "set(gca, \"xaxislocation\", \"origin\");\n",
    "set(gca, \"yaxislocation\", \"origin\");\n",
    "text(2, 3,\"2+3i\");text(2, -3,\"2-3i\");\n",
    "box off;"
   ]
  },
  {
   "cell_type": "code",
   "execution_count": 154,
   "metadata": {},
   "outputs": [
    {
     "name": "stdout",
     "output_type": "stream",
     "text": [
      "mu =  0.044932\n",
      "sigma =  1.0477\n",
      "ans =  1.0454\n",
      "ans =  0.088210\n"
     ]
    },
    {
     "data": {
      "image/png": "[encoded data removed]",
      "text/plain": [
       "<IPython.core.display.Image object>"
      ]
     },
     "metadata": {},
     "output_type": "display_data"
    }
   ],
   "source": [
    "# Statisztika ismétlés\n",
    "\n",
    "for i=1:100 x(i)=(i-50)*0.1; endfor;\n",
    "y = stdnormal_pdf(x); # N(0,1) standard normális eloszlás sűrűségfüggvénye x helyen\n",
    "\n",
    "figure(1, 'position',[0,0,400,150]);\n",
    "plot(x,y);ylabel(\"f(x)\")\n",
    "\n",
    "r = randn(1000,1); # N(0,1) standard normális eloszlású véletlen számok\n",
    "mu = mean(r)\n",
    "sigma = std(r) \n",
    "r(102) = 1000; # villám csapott a mérőberendezésbe, kiugró értéket mér\n",
    "mean(r)\n",
    "#vs\n",
    "median(r) #nem érzékeny kiugró értékekre"
   ]
  },
  {
   "cell_type": "markdown",
   "metadata": {},
   "source": [
    "|H0 hipotézis|név|teszt octave függvénye|\n",
    "|---------|------|---------|\n",
    "|azonos várható értékek: $E_{i} == E_{j}$|kétmintás t,anova|\tt_test_2, anova|\n",
    "|azonos varianciák:\t$\\sigma^{2}_{1} == \\sigma^{2}_{2}$|F|var_test|\n",
    "|azonos eloszlás: $p_{\\text{elmélet}} == p_{\\text{kísérlet}}$|$\\chi^{2}$\t|chisquare_test_homogeneity|\n",
    "|adott elméleti várható érték: $E_{i} == E_{0}$|egymintás t|\t t_test|"
   ]
  },
  {
   "cell_type": "code",
   "execution_count": 188,
   "metadata": {},
   "outputs": [
    {
     "name": "stdout",
     "output_type": "stream",
     "text": [
      "F-proba\n",
      "pH0 =  0.80940\n",
      "ans =\n",
      "\n",
      "   0.96057   0.65302   0.74449\n",
      "\n",
      "egymintas_t\n",
      "mu =  0.51508\n",
      "pH0 =  0.48175\n",
      "pH0 =  1\n",
      "pH0 =  0.75912\n",
      "pH0_ =  0.24088\n",
      "ans =  1\n",
      "\n",
      "ketmintas_t\n",
      "pH0 =  0.83637\n",
      "\n",
      "One-way ANOVA Table:\n",
      "\n",
      "Source of Variation   Sum of Squares    df  Empirical Var\n",
      "*********************************************************\n",
      "Between Groups                6.7955     2         3.3977\n",
      "Within Groups                 4.7162     6         0.7860\n",
      "---------------------------------------------------------\n",
      "Total                        11.5116     8\n",
      "\n",
      "Test Statistic f              4.3227\n",
      "p-value                       0.0688\n",
      "\n",
      "ans =  0.068763\n",
      "mean_D =\n",
      "\n",
      "   0.51508   0.35346  -1.40371\n",
      "\n"
     ]
    }
   ],
   "source": [
    "# statisztika próbák\n",
    "D=randn(3,3); # mérési adatsor\n",
    "\n",
    "disp(\"F-proba\")\n",
    "pH0 = var_test(D(:,1),D(:,2)) # F próba a D adatmátrix első két oszlopára (1. mérés, 2. mérés)\n",
    "var(D)\n",
    "\n",
    "disp(\"egymintas_t\")\n",
    "mu = mean(D(:,1)) # sokaság várható értéke mintából becsülve: mu \n",
    "pH0 = t_test(D(:,1),1.0) #most E0=1.0,elméleti várható érték\n",
    "pH0 = t_test(D(:,1),mu)  # alapértelmezésben kétoldali\n",
    "\n",
    "pH0 = t_test(D(:,1),1.0,\">\") # \">\" Ha: mu > E0, egyoldali\n",
    "pH0_ = t_test(D(:,1),1.0,\"<\") # \">\" Ha: mu < E0, egyoldali\n",
    "pH0+pH0_\n",
    "\n",
    "disp(\"\")\n",
    "disp(\"ketmintas_t\")\n",
    "pH0 = t_test_2(D(:,1),D(:,2),\"<>\") #kétoldali\n",
    "\n",
    "\n",
    "anova(D) #F és F_kritikus helyett: p-érték\n",
    "mean_D = mean(D)"
   ]
  },
  {
   "cell_type": "markdown",
   "metadata": {},
   "source": [
    "adatok tárolása mátrixban - **adatmátrix**<br>\n",
    "$D = \\begin{bmatrix}\n",
    "d_{11}&d_{12}&d_{13}\\\\\n",
    "d_{21}&d_{22}&d_{23}\\\\\n",
    "d_{31}&d_{32}&d_{33}\\\\ \n",
    "\\end{bmatrix}\\begin{matrix}\n",
    "\\text{minta}_{1}\\\\\n",
    "\\text{minta}_{2}\\\\\n",
    "\\text{minta}_{3}\n",
    "\\end{matrix}$<br>\n",
    "$n$ sor egy-egy minta (objektumot)<br>\n",
    "$m$ oszlop: egy-egy tulajdonságot (pl változó szerinti mérést jelent) <br>\n",
    "**centrálás**: $d_{ij}$ értékből kivonjuk az oszlopátlagát<br>\n",
    "**skálázás**: $d_{ij}$ értéket osztjuk az oszlop szórásával<br>\n",
    "**standardizálás**: centrálás + skálázás<br>"
   ]
  },
  {
   "cell_type": "code",
   "execution_count": 12,
   "metadata": {},
   "outputs": [
    {
     "name": "stdout",
     "output_type": "stream",
     "text": [
      "D =\n",
      "\n",
      "   7.0038   4.8141   7.8150\n",
      "   8.0122   7.1346   5.4968\n",
      "   6.2532   2.4929   7.7527\n",
      "\n",
      "ans =\n",
      "\n",
      "   2.9606e-16  -1.4803e-16   2.9606e-16\n",
      "\n",
      "C =\n",
      "\n",
      "  -8.5927e-02   2.4716e-04   7.9350e-01\n",
      "   9.2246e-01   2.3207e+00  -1.5247e+00\n",
      "  -8.3653e-01  -2.3210e+00   7.3119e-01\n",
      "\n",
      "S =\n",
      "\n",
      "  -9.7353e-02   1.0650e-04   6.0078e-01\n",
      "   1.0451e+00   9.9995e-01  -1.1544e+00\n",
      "  -9.4776e-01  -1.0001e+00   5.5360e-01\n",
      "\n",
      "ans =\n",
      "\n",
      "   0.0000e+00   0.0000e+00  -2.2204e-16\n",
      "\n",
      "ans =\n",
      "\n",
      "   1.00000   1.00000   1.00000\n",
      "\n"
     ]
    },
    {
     "data": {
      "image/png": "[encoded data removed]",
      "text/plain": [
       "<IPython.core.display.Image object>"
      ]
     },
     "metadata": {},
     "output_type": "display_data"
    }
   ],
   "source": [
    "mu = 5;sigma = 3;\n",
    "D = normrnd(mu,sigma,3,3)\n",
    "\n",
    "mean(C)\n",
    "C = center(D) # centralas\n",
    "\n",
    "S = zscore(D) # standaridzálás\n",
    "mean(S) # standardizált átlaga 0 \n",
    "var(S)  # standardizált szórása 1 \n",
    "\n",
    "X = normrnd(mu,sigma,100,1) ; Y = normrnd(mu,sigma,100,1);\n",
    "Xst = zscore(X) ; Yst = zscore(Y);\n",
    "\n",
    "figure(1, 'position',[0,0,300,300]);\n",
    "plot(X,Y,'ob',Xst,Yst,'or')\n",
    "set(gca, \"xaxislocation\", \"origin\");\n",
    "set(gca, \"yaxislocation\", \"origin\");\n",
    "text(4,4.5,'standardizalas elott')\n",
    "text(-1,2,'standardizalas utan')\n",
    "box off;"
   ]
  },
  {
   "cell_type": "code",
   "execution_count": 200,
   "metadata": {},
   "outputs": [
    {
     "name": "stdout",
     "output_type": "stream",
     "text": [
      "D =\n",
      "\n",
      "   6.5811   5.3222   1.4119\n",
      "   4.3055  -1.1181   2.5733\n",
      "   3.9454  -5.2249   3.8098\n",
      "\n",
      "ans =\n",
      "\n",
      "   3.9454  -5.2249   1.4119\n",
      "   4.3055  -1.1181   2.5733\n",
      "   6.5811   5.3222   3.8098\n",
      "\n",
      "ans =\n",
      "\n",
      "   6.5811   5.3222   1.4119\n",
      "   4.3055  -1.1181   2.5733\n",
      "   3.9454  -5.2249   3.8098\n",
      "\n"
     ]
    }
   ],
   "source": [
    "D\n",
    "sort(D) #rendezett oszlopok\n",
    "sortrows(D,3) # rendezés 3. oszlop szerint, viszi magával a mintához tartozó többi változót\n",
    "\n",
    "#mean(D) \n",
    "#median(D) \n",
    "#meansq(D) \n",
    "#std(D) \n",
    "#var(D) \n",
    "\n",
    "#statistics(D) \n",
    "#help statistics # minden oszlopra: min, Q1, median, Q3, max, mean, standard deviation, skewness, kurtosis"
   ]
  },
  {
   "cell_type": "markdown",
   "metadata": {},
   "source": [
    "**kovariancia** ($s_{xy}^{2}$) - változók együttes (ko-) mozgására, változására utal, (ko-variálnak)<br>\n",
    "$\\displaystyle s_{xy}^{2}=\\frac{\\sum\\limits_{i=1}^{n}(x_{i}-E_{x})(y_{i}-E_{y})}{n-1}$, ahol $E$ a várható érték<br>\n",
    "($s_{xx}^{2}$: variancia)<br>\n",
    "\n",
    "**korreláció** változók szórásával normalizált kovariancia, értéke $[-1,1]$ között<br>\n",
    "$\\displaystyle \\rho_{xy}^{2}=\\frac{s_{xy}^{2}}{\\sigma_{x}\\sigma_{y}}$<br>\n",
    "két változó közötti *lineáris kapcsolat erősségét* jellemzi<br>"
   ]
  },
  {
   "cell_type": "code",
   "execution_count": 84,
   "metadata": {},
   "outputs": [
    {
     "name": "stdout",
     "output_type": "stream",
     "text": [
      "ans = -- cov(x,y) 6(x)6(y) corr(x,y)\n",
      "ans = a) 0.0136078 1.00116 0.0135921\n",
      "ans = b) 2.58361 2.58361 1\n",
      "ans = c) 2.54661 2.82729 0.900726\n",
      "ans = d) -2.52545 2.80234 -0.901196\n"
     ]
    },
    {
     "data": {
      "image/png": "[encoded data removed]",
      "text/plain": [
       "<IPython.core.display.Image object>"
      ]
     },
     "metadata": {},
     "output_type": "display_data"
    }
   ],
   "source": [
    "format short\n",
    "sprintf(\"-- %s %s %s\",\"cov(x,y)\",\"6(x)6(y)\",\"corr(x,y)\")\n",
    "#a) véletlen számok\n",
    "x = randn(1000,1); # standard normáleloszlásnál szinte minden adat [-3,+3] közé kerül, lásd ábrák\n",
    "y = randn(1000,1);\n",
    " \n",
    "sprintf(\"a) %d %d %d\",cov(x,y),std(x)*std(y),corr(x,y))\n",
    "# csillagos égbolt: nem korrelál,nincs lineáris tendencia\n",
    "\n",
    "subplot (2, 2, 1)\n",
    "scatter(x,y);ylabel (\"y\");xlabel (\"x\")\n",
    "text(3,2,['\\rho=' num2str(corr(x,y))])\n",
    "\n",
    "#b)\n",
    "y = 2.5*x; #tökéletes lineáris kapcsolat\n",
    "\n",
    "sprintf(\"b) %d %d %d\",cov(x,y),std(x)*std(y),corr(x,y))\n",
    "\n",
    "\n",
    "subplot (2, 2, 2)\n",
    "scatter(x,y)\n",
    "text(3,4,['\\rho=' num2str(corr(x,y))])\n",
    "\n",
    "#c) lineáris kapcsolat + zaj(mérési hiba)\n",
    "for i=1:1000 y(i) = 2.5*x(i)+1.2*randn(); endfor;\n",
    "\n",
    "sprintf(\"c) %d %d %d\",cov(x,y),std(x)*std(y),corr(x,y))\n",
    "\n",
    "subplot (2, 2, 3)\n",
    "scatter(x,y)\n",
    "text(3,4,['\\rho=' num2str(corr(x,y))])\n",
    "\n",
    "#d) negatív korreláció\n",
    "for i=1:1000 y(i) = -2.5*x(i)+1.2*randn(); endfor;\n",
    "\n",
    "sprintf(\"d) %d %d %d\",cov(x,y),std(x)*std(y),corr(x,y))\n",
    "\n",
    "subplot (2, 2, 4)\n",
    "scatter(x,y)\n",
    "text(2,4,['\\rho= ' num2str(corr(x,y))])"
   ]
  },
  {
   "cell_type": "markdown",
   "metadata": {},
   "source": [
    "**mátrixra alkalmazva**: oszlopok között számolt kovariancia, korreláció<br>\n",
    "a kovariancia mátrix (CV) szimmetrikus, diagonálisban (oszlopindex = sorindexek) varianciák\n",
    "\n",
    "$\\tiny CV=\\tiny\\begin{bmatrix}\n",
    " \\mathrm{Cov}(1,1)=\\mathrm{Var}(1)&\\mathrm{Cov}(1,2)  &\\mathrm{Cov}(1,3) \\\\\n",
    "\\mathrm{Cov}(2,1) &\\mathrm{Cov}(2,2)=\\mathrm{Var}(2)  &\\mathrm{Cov}(2,3) \\\\\n",
    " \\mathrm{Cov}(3,1)&\\mathrm{Cov}(3,2)  &\\mathrm{Cov}(3,3)=\\mathrm{Var}(3)\n",
    "\\end{bmatrix}$"
   ]
  },
  {
   "cell_type": "code",
   "execution_count": 104,
   "metadata": {
    "scrolled": false
   },
   "outputs": [
    {
     "name": "stdout",
     "output_type": "stream",
     "text": [
      "ans =\n",
      "\n",
      "    1.2000    3.0001    3.4885\n",
      "    3.0001    7.5002    8.7213\n",
      "    3.4885    8.7213   13.4784\n",
      "\n",
      "ans =\n",
      "\n",
      "   1.00000   1.00000   0.86741\n",
      "   1.00000   1.00000   0.86741\n",
      "   0.86741   0.86741   1.00000\n",
      "\n",
      "cov_St =\n",
      "\n",
      "   1.000000  -0.299821   0.075302\n",
      "  -0.299821   1.000000  -0.111788\n",
      "   0.075302  -0.111788   1.000000\n",
      "\n",
      "corr_D =\n",
      "\n",
      "   1.000000  -0.299821   0.075302\n",
      "  -0.299821   1.000000  -0.111788\n",
      "   0.075302  -0.111788   1.000000\n",
      "\n",
      "standardizált kovarianciája azonos az eredeti korrelációjával\n"
     ]
    }
   ],
   "source": [
    "clear\n",
    "D=randn(10,3); \n",
    "D(:,2)=D(:,1)*2.5;\n",
    "for i=1:10 D(i,3) = D(i,1)*2.5+randn()*2.0; endfor; \n",
    "cov(D)\n",
    "corr(D)\n",
    "\n",
    "D=randn(10,3);\n",
    "St = zscore(D);\n",
    "cov_St = cov(St)\n",
    "corr_D = corr(D)\n",
    "disp(\"standardizált kovarianciája azonos az eredeti korrelációjával\")"
   ]
  },
  {
   "cell_type": "code",
   "execution_count": 98,
   "metadata": {},
   "outputs": [
    {
     "name": "stdout",
     "output_type": "stream",
     "text": [
      "A =\n",
      "\n",
      "   1   2\n",
      "   3   4\n",
      "\n",
      "ans =\n",
      "\n",
      "   1   3\n",
      "   2   4\n",
      "\n",
      "error: operator *: nonconformant arguments (op1 is 2x3, op2 is 2x2)\n"
     ]
    }
   ],
   "source": [
    "# Mátrixműveletek\n",
    "A=[1,2;3,4]  #2×2\n",
    "B=randn(2,2); #2×2\n",
    "C=randn(2,3); #2×3\n",
    "A' #transzponálás\n",
    "\n",
    "#mátrixszorzás\n",
    "A*B;  #2×2 * 2×2 -> 2×2\n",
    "C*A  #2×3 * 2×2 -/> \n",
    "A*C; #2×2 * 2×3 -> 2×3\n",
    "C'*A; #3×2 * 2×2 -> 3×2"
   ]
  },
  {
   "cell_type": "code",
   "execution_count": 102,
   "metadata": {},
   "outputs": [
    {
     "name": "stdout",
     "output_type": "stream",
     "text": [
      "A =\n",
      "\n",
      "   1   2\n",
      "   3   4\n",
      "\n",
      "B =\n",
      "\n",
      "   4   5\n",
      "   6   7\n",
      "\n",
      "ans =\n",
      "\n",
      "   16   19\n",
      "   36   43\n",
      "\n",
      "ans =\n",
      "\n",
      "    4   10\n",
      "   18   28\n",
      "\n",
      "ans = 0\n"
     ]
    }
   ],
   "source": [
    "A=[1,2;3,4]\n",
    "B=[4,5;6,7]\n",
    "A*B  # mátrixszorzás\n",
    "A.*B # kétmátrixot elemenként szorzunk\n",
    "\n",
    "A = rand(4,4) ;\n",
    "A(:,4) = 2*A(:,1)-A(:,2)+0.5*A(:,3); # 4. oszlop lineáris kombinációja az első három oszlopnak -> det zérus lesz\n",
    "det(A)"
   ]
  },
  {
   "cell_type": "markdown",
   "metadata": {},
   "source": [
    "**Sajátértékegyenlet, sajátértékprobléma** $\\displaystyle\\underline{\\underline{A}}\\;\\boldsymbol{v}=\\lambda\\boldsymbol{v}\\quad\\quad$ $\\boldsymbol{v}$ sajátvektor, $\\lambda$ sajátérték <br>\n",
    "\n",
    "geometriai értelmezés: lineáris transzformáció, $\\underline{\\underline{A}}$ transzformációs mátrixszal transzformálva $\\underline{v}$ vektort, az $\\lambda$-szorosára változik<br>\n",
    "transzformáció pl. nyújtás, forgatás, tükrözés, nyírás<br>\n",
    "kvantummechanika: időfüggetlen Schrödinger: $H\\Psi=E\\Psi$<br>\n",
    "$H$ Hamilton mátrix<br>\n",
    "$\\Psi$ rendszer állapotfüggvénye (hullámfüggvény, sajátfüggvény)<br>\n",
    "$E$ energiasajátértékek mátrixa <br>"
   ]
  },
  {
   "cell_type": "code",
   "execution_count": 134,
   "metadata": {},
   "outputs": [
    {
     "name": "stdout",
     "output_type": "stream",
     "text": [
      "A =\n",
      "\n",
      "   5   0\n",
      "   0   5\n",
      "\n",
      "vA =\n",
      "\n",
      "   1   0\n",
      "   0   1\n",
      "\n",
      "eA =\n",
      "\n",
      "Diagonal Matrix\n",
      "\n",
      "   5   0\n",
      "   0   5\n",
      "\n",
      "ans =\n",
      "\n",
      "   5\n",
      "   0\n",
      "\n",
      "ans =\n",
      "\n",
      "   5\n",
      "   0\n",
      "\n",
      "B =\n",
      "\n",
      "Diagonal Matrix\n",
      "\n",
      "   1   0\n",
      "   0   1\n",
      "\n",
      "ans =  10\n"
     ]
    }
   ],
   "source": [
    "A = [5 0; 0 5] #nyújtás \n",
    "[vA,eA]=eig(A) #vA: 2 sajátvektor a két oszlopban \n",
    "               #eA: diagonális sajátértékmátrix, sajátértékek a főátlóban\n",
    "v1 = vA(:,1);\n",
    "e1 = eA(1,1);\n",
    "#A*v1 = e1*v1\n",
    "A*v1\n",
    "e1*v1\n",
    "\n",
    "\n",
    "B=eye(2)  #2×2 egységmátrix, eye~identity               \n",
    "trace(A)  #főátló elemeinek összege (trace, spur, nyom) "
   ]
  },
  {
   "cell_type": "code",
   "execution_count": 124,
   "metadata": {},
   "outputs": [
    {
     "name": "stdout",
     "output_type": "stream",
     "text": [
      "ans =\n",
      "\n",
      "   5\n",
      "   0\n",
      "   0\n",
      "   5\n",
      "\n",
      "ans =\n",
      "\n",
      "   5.00000   0.00000\n",
      "   0.00000   5.00000\n",
      "\n",
      "ans =\n",
      "\n",
      "   1.70998   0.00000\n",
      "   0.00000   1.70998\n",
      "\n",
      "ans =\n",
      "\n",
      "   148.41316     0.00000\n",
      "     0.00000   148.41316\n",
      "\n"
     ]
    }
   ],
   "source": [
    "vec(A)   #mátrix oszlopait egymásra pakolja\n",
    "sqrtm(A)*sqrtm(A) # mátrix négyzetgyöke: sqrtm(A)\n",
    "                  # sqrtm(A)*sqrtm(A) = A\n",
    "                  # =/=sqrt(A)\n",
    "A^(1/3)  # mátrix hatványozása\n",
    "expm(A)  # Taylor sorként definiálva"
   ]
  },
  {
   "cell_type": "code",
   "execution_count": 128,
   "metadata": {},
   "outputs": [
    {
     "data": {
      "image/png": "[encoded data removed]",
      "text/plain": [
       "<IPython.core.display.Image object>"
      ]
     },
     "metadata": {},
     "output_type": "display_data"
    }
   ],
   "source": [
    "#Lennard-Jones potenciál\n",
    "function u=lj(r) u=4*1*(3**12/r**12-3**6/r**6); endfunction; \n",
    "\n",
    "#for i=1:10 v(i)=i*0.5+2.3;u(i)=f(v(i));endfor; \n",
    "r = 2.8:0.01:7.3;\n",
    "u = arrayfun(@lj,r);\n",
    "\n",
    "plot(r,u);\n",
    "set(gca, \"xaxislocation\", \"origin\");\n",
    "set(gca, \"yaxislocation\", \"origin\");\n",
    "box off;\n",
    "xlim ([0, 8]);\n",
    "title (\"612 potential\");xlabel ('{\\it r}_{AB}');ylabel ('{\\it u}({\\itr})');"
   ]
  },
  {
   "cell_type": "code",
   "execution_count": 129,
   "metadata": {},
   "outputs": [
    {
     "name": "stdout",
     "output_type": "stream",
     "text": [
      "ans =  3.0000\n",
      "ans =  3.0000\n",
      "ans =  33.805\n",
      "ans =   -1.9539e-06\n",
      "ans =  3\n",
      "ans =  3.3674\n",
      "ans =  3.3674\n"
     ]
    }
   ],
   "source": [
    "fsolve(@lj,2.4) # legközelebbi zérushely meghatározása 2.4 induló érték mellett\n",
    "fsolve(@lj,3.2) # 3.2 induló érték\n",
    "fsolve(@lj,4) \n",
    "lj(33.805)\n",
    "fzero(@lj,[2,4]) # fzero intervallumon belül keres zérushelyet\n",
    "fminunc(@lj,3)   # min unconditional, megszorítási feltétel nélkül minimumkeresés, kezdőértéket adunk\n",
    "fminbnd(@lj,2,4) # f min bound 2 és 4 közötti intervallumon keres minimumot"
   ]
  }
 ],
 "metadata": {
  "kernelspec": {
   "display_name": "Octave",
   "language": "octave",
   "name": "octave"
  },
  "language_info": {
   "file_extension": ".m",
   "help_links": [
    {
     "text": "GNU Octave",
     "url": "https://www.gnu.org/software/octave/support.html"
    },
    {
     "text": "Octave Kernel",
     "url": "https://github.com/Calysto/octave_kernel"
    },
    {
     "text": "MetaKernel Magics",
     "url": "https://github.com/calysto/metakernel/blob/master/metakernel/magics/README.md"
    }
   ],
   "mimetype": "text/x-octave",
   "name": "octave",
   "version": "4.2.2"
  }
 },
 "nbformat": 4,
 "nbformat_minor": 2
}
